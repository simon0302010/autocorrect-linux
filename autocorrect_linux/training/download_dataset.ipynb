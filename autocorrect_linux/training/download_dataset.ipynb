{
 "cells": [
  {
   "cell_type": "code",
   "execution_count": null,
   "id": "b18af3ae-380e-40bc-8ad9-34c6be4df0cd",
   "metadata": {},
   "outputs": [],
   "source": [
    "!pip install tqdm requests wikipedia"
   ]
  },
  {
   "cell_type": "code",
   "execution_count": null,
   "id": "2b84d312",
   "metadata": {},
   "outputs": [],
   "source": [
    "import wikipedia\n",
    "import concurrent.futures\n",
    "from tqdm import tqdm\n",
    "\n",
    "NUM_PAGES = 3000\n",
    "MIN_LENGTH = 200\n",
    "MAX_TRIES = NUM_PAGES\n",
    "OUTPUT_FILE = \"dataset/wikipedia_2.txt\"\n",
    "THREADS = 16\n",
    "\n",
    "def clean_text(text):\n",
    "    lines = text.splitlines()\n",
    "    cleaned = [line for line in lines if not line.lstrip().startswith(\"==\") and line.strip()]\n",
    "    return \"\\n\".join(cleaned)\n",
    "\n",
    "def fetch_and_clean_article(_):\n",
    "    try:\n",
    "        title = wikipedia.random(1)\n",
    "        page = wikipedia.page(title)\n",
    "        text = page.content\n",
    "        if len(text) >= MIN_LENGTH:\n",
    "            cleaned = clean_text(text)\n",
    "            return cleaned\n",
    "    except Exception:\n",
    "        pass\n",
    "    return None\n",
    "\n",
    "def main():\n",
    "    count = 0\n",
    "    buffer = []\n",
    "    with concurrent.futures.ThreadPoolExecutor(max_workers=THREADS) as executor:\n",
    "        futures = [executor.submit(fetch_and_clean_article, i) for i in range(MAX_TRIES)]\n",
    "        for future in tqdm(concurrent.futures.as_completed(futures), total=MAX_TRIES, desc=\"Downloading\"):\n",
    "            result = future.result()\n",
    "            if result:\n",
    "                buffer.append(result)\n",
    "                count += 1\n",
    "                if count >= NUM_PAGES:\n",
    "                    break\n",
    "\n",
    "    with open(OUTPUT_FILE, \"a\", encoding=\"utf-8\") as f:\n",
    "        f.write(\"\\n\".join(buffer) + \"\\n\")\n",
    "\n",
    "    print(f\"Downloaded {count} Wikipedia pages (attempted {MAX_TRIES} times).\")\n",
    "\n",
    "if __name__ == \"__main__\":\n",
    "    main()"
   ]
  },
  {
   "cell_type": "code",
   "execution_count": 23,
   "id": "181b548f",
   "metadata": {},
   "outputs": [],
   "source": [
    "import requests\n",
    "import json\n",
    "\n",
    "url = \"https://raw.githubusercontent.com/alexa/Topical-Chat/master/conversations/train.json\"\n",
    "response = requests.get(url)\n",
    "response.raise_for_status()\n",
    "\n",
    "data = json.loads(response.text)\n",
    "\n",
    "full_text = \"\"\n",
    "for conversation in data.values():\n",
    "    for turn in conversation[\"content\"]:\n",
    "        full_text += turn[\"message\"].strip() + \"\\n\"\n",
    "\n",
    "with open(\"dataset/conversation_1.txt\", \"w\") as f:\n",
    "    f.write(full_text)"
   ]
  },
  {
   "cell_type": "code",
   "execution_count": 1,
   "id": "50f55d5e",
   "metadata": {},
   "outputs": [],
   "source": [
    "import requests\n",
    "\n",
    "url = \"https://raw.githubusercontent.com/Phylliida/Dialogue-Datasets/refs/heads/master/MovieCorpus.txt\"\n",
    "response = requests.get(url)\n",
    "response.raise_for_status()\n",
    "\n",
    "with open(\"dataset/movie_scripts.txt\", \"a\") as f:\n",
    "    for line in response.text.splitlines():\n",
    "        if len(line) >= 20:\n",
    "            f.write(line + \"\\n\")"
   ]
  }
 ],
 "metadata": {
  "kernelspec": {
   "display_name": "venv",
   "language": "python",
   "name": "python3"
  },
  "language_info": {
   "codemirror_mode": {
    "name": "ipython",
    "version": 3
   },
   "file_extension": ".py",
   "mimetype": "text/x-python",
   "name": "python",
   "nbconvert_exporter": "python",
   "pygments_lexer": "ipython3",
   "version": "3.10.18"
  }
 },
 "nbformat": 4,
 "nbformat_minor": 5
}
