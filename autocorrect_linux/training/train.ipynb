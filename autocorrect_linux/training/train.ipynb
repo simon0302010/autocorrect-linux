{
 "cells": [
  {
   "cell_type": "code",
   "execution_count": null,
   "metadata": {},
   "outputs": [],
   "source": [
    "!pip install numpy keras matplotlib"
   ]
  },
  {
   "cell_type": "code",
   "execution_count": null,
   "metadata": {},
   "outputs": [],
   "source": [
    "import numpy as np\n",
    "import re\n",
    "from collections import Counter\n",
    "from keras.models import Sequential, load_model\n",
    "from keras.layers import Embedding, LSTM, Dense\n",
    "from keras.callbacks import ModelCheckpoint, EarlyStopping\n",
    "import matplotlib.pyplot as plt"
   ]
  },
  {
   "cell_type": "code",
   "execution_count": null,
   "metadata": {},
   "outputs": [],
   "source": [
    "# List your training files here:\n",
    "training_files = [\n",
    "    'dataset/conversation_1.txt',\n",
    "    'dataset/movie_scripts.txt',\n",
    "    'dataset/sherlock.txt'\n",
    "]\n",
    "\n",
    "# Load and concatenate all text\n",
    "all_text = ''\n",
    "for fname in training_files:\n",
    "    with open(fname, 'r', encoding='utf-8') as f:\n",
    "        all_text += f.read() + ' '\n",
    "print(f\"Loaded {len(all_text):,} characters from {len(training_files)} files.\")"
   ]
  },
  {
   "cell_type": "code",
   "execution_count": null,
   "metadata": {},
   "outputs": [],
   "source": [
    "def tokenize(text):\n",
    "    # Split on word boundaries\n",
    "    return re.findall(r\"\\b\\w+\\b\", text)\n",
    "\n",
    "tokens = tokenize(all_text)\n",
    "print(f\"Total tokens: {len(tokens):,}\")\n",
    "\n",
    "# Optionally, filter out rare words\n",
    "min_freq = 1  # set >1 to filter rare words\n",
    "freq = Counter(tokens)\n",
    "vocab = sorted([w for w, c in freq.items() if c >= min_freq])\n",
    "word2idx = {w: i for i, w in enumerate(vocab)}\n",
    "idx2word = {i: w for w, i in word2idx.items()}\n",
    "vocab_size = len(vocab)\n",
    "print(f\"Vocabulary size: {vocab_size}\")"
   ]
  },
  {
   "cell_type": "code",
   "execution_count": null,
   "metadata": {},
   "outputs": [],
   "source": [
    "seq_lenght = 10  # context window, adjust as needed\n",
    "step = 1         # sliding window step size\n",
    "\n",
    "input_sequences = []\n",
    "target_words = []\n",
    "for i in range(0, len(tokens) - seq_lenght, step):\n",
    "    seq = tokens[i:i+seq_lenght]\n",
    "    target = tokens[i+seq_lenght]\n",
    "    # Only keep if all words in vocab\n",
    "    if all(w in word2idx for w in seq + [target]):\n",
    "        input_sequences.append([word2idx[w] for w in seq])\n",
    "        target_words.append(word2idx[target])\n",
    "input_sequences = np.array(input_sequences)\n",
    "target_words = np.array(target_words)\n",
    "print(f\"Number of sequences: {len(input_sequences):,}\")"
   ]
  },
  {
   "cell_type": "code",
   "execution_count": null,
   "metadata": {},
   "outputs": [],
   "source": [
    "embedding_dim = 100\n",
    "hidden_dim = 256\n",
    "\n",
    "model = Sequential([\n",
    "    Embedding(input_dim=vocab_size, output_dim=embedding_dim, input_length=seq_lenght),\n",
    "    LSTM(hidden_dim, return_sequences=False),\n",
    "    Dense(vocab_size, activation='softmax')\n",
    "])\n",
    "model.compile(loss='sparse_categorical_crossentropy', optimizer='adam')\n",
    "model.build(input_shape=(None, seq_lenght))\n",
    "model.summary()"
   ]
  },
  {
   "cell_type": "code",
   "execution_count": null,
   "metadata": {},
   "outputs": [],
   "source": [
    "batch_size = 128\n",
    "epochs = 40\n",
    "callbacks = [\n",
    "    ModelCheckpoint('model.keras', save_best_only=True),\n",
    "    EarlyStopping(patience=3, restore_best_weights=True)\n",
    "]\n",
    "\n",
    "history = model.fit(\n",
    "    input_sequences, target_words,\n",
    "    batch_size=batch_size,\n",
    "    epochs=epochs,\n",
    "    validation_split=0.1,\n",
    "    callbacks=callbacks\n",
    ")"
   ]
  },
  {
   "cell_type": "code",
   "execution_count": null,
   "metadata": {},
   "outputs": [],
   "source": [
    "plt.plot(history.history['loss'], label='train loss')\n",
    "plt.plot(history.history['val_loss'], label='val loss')\n",
    "plt.legend()\n",
    "plt.xlabel('Epoch')\n",
    "plt.ylabel('Loss')\n",
    "plt.title('Training and Validation Loss')\n",
    "plt.show()"
   ]
  },
  {
   "cell_type": "code",
   "execution_count": null,
   "metadata": {},
   "outputs": [],
   "source": [
    "np.savez_compressed('word_vocab.npz', word2idx=word2idx, idx2word=idx2word)"
   ]
  },
  {
   "cell_type": "code",
   "execution_count": 10,
   "metadata": {},
   "outputs": [],
   "source": [
    "def sample(preds, temperature=1.0):\n",
    "    preds = np.asarray(preds).astype('float64')\n",
    "    preds = np.log(preds + 1e-8) / temperature\n",
    "    exp_preds = np.exp(preds)\n",
    "    preds = exp_preds / np.sum(exp_preds)\n",
    "    return np.random.choice(len(preds), p=preds)\n",
    "\n",
    "def predict_next_words(model, seed_text, word2idx, idx2word, seq_lenght, num_words=10, temperature=1.0):\n",
    "    words = seed_text.split()\n",
    "    for _ in range(num_words):\n",
    "        seq = [word2idx.get(w, 0) for w in words[-seq_lenght:]]\n",
    "        if len(seq) < seq_lenght:\n",
    "            seq = [0]*(seq_lenght - len(seq)) + seq\n",
    "        x = np.array([seq])\n",
    "        preds = model.predict(x, verbose=0)[0]\n",
    "        next_idx = sample(preds, temperature)\n",
    "        next_word = idx2word.get(next_idx, '')\n",
    "        words.append(next_word)\n",
    "    return ' '.join(words)"
   ]
  },
  {
   "cell_type": "code",
   "execution_count": null,
   "metadata": {},
   "outputs": [],
   "source": [
    "seed = \"My most valuable posession is a \"\n",
    "generated = predict_next_words(\n",
    "    model, seed, word2idx, idx2word, seq_lenght=seq_lenght, num_words=20, temperature=0.8\n",
    ")\n",
    "print(generated)"
   ]
  }
 ],
 "metadata": {
  "kernelspec": {
   "display_name": "venv",
   "language": "python",
   "name": "python3"
  },
  "language_info": {
   "codemirror_mode": {
    "name": "ipython",
    "version": 3
   },
   "file_extension": ".py",
   "mimetype": "text/x-python",
   "name": "python",
   "nbconvert_exporter": "python",
   "pygments_lexer": "ipython3",
   "version": "3.10.18"
  }
 },
 "nbformat": 4,
 "nbformat_minor": 2
}
