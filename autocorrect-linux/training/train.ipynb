{
 "cells": [
  {
   "cell_type": "code",
   "execution_count": 2,
   "id": "b18af3ae-380e-40bc-8ad9-34c6be4df0cd",
   "metadata": {},
   "outputs": [
    {
     "name": "stdout",
     "output_type": "stream",
     "text": [
      "Requirement already satisfied: tensorflow in /home/simon/Documents/python/autocorrect-linux/venv/lib/python3.10/site-packages (2.19.0)\n",
      "Requirement already satisfied: keras in /home/simon/Documents/python/autocorrect-linux/venv/lib/python3.10/site-packages (3.10.0)\n",
      "Requirement already satisfied: numpy in /home/simon/Documents/python/autocorrect-linux/venv/lib/python3.10/site-packages (2.1.3)\n",
      "Requirement already satisfied: tqdm in /home/simon/Documents/python/autocorrect-linux/venv/lib/python3.10/site-packages (4.67.1)\n",
      "Requirement already satisfied: requests in /home/simon/Documents/python/autocorrect-linux/venv/lib/python3.10/site-packages (2.32.4)\n",
      "Collecting wikipedia\n",
      "  Downloading wikipedia-1.4.0.tar.gz (27 kB)\n",
      "  Preparing metadata (setup.py) ... \u001b[?25ldone\n",
      "\u001b[?25hRequirement already satisfied: termcolor>=1.1.0 in /home/simon/Documents/python/autocorrect-linux/venv/lib/python3.10/site-packages (from tensorflow) (3.1.0)\n",
      "Requirement already satisfied: astunparse>=1.6.0 in /home/simon/Documents/python/autocorrect-linux/venv/lib/python3.10/site-packages (from tensorflow) (1.6.3)\n",
      "Requirement already satisfied: wrapt>=1.11.0 in /home/simon/Documents/python/autocorrect-linux/venv/lib/python3.10/site-packages (from tensorflow) (1.17.2)\n",
      "Requirement already satisfied: grpcio<2.0,>=1.24.3 in /home/simon/Documents/python/autocorrect-linux/venv/lib/python3.10/site-packages (from tensorflow) (1.73.0)\n",
      "Requirement already satisfied: libclang>=13.0.0 in /home/simon/Documents/python/autocorrect-linux/venv/lib/python3.10/site-packages (from tensorflow) (18.1.1)\n",
      "Requirement already satisfied: gast!=0.5.0,!=0.5.1,!=0.5.2,>=0.2.1 in /home/simon/Documents/python/autocorrect-linux/venv/lib/python3.10/site-packages (from tensorflow) (0.6.0)\n",
      "Requirement already satisfied: six>=1.12.0 in /home/simon/Documents/python/autocorrect-linux/venv/lib/python3.10/site-packages (from tensorflow) (1.17.0)\n",
      "Requirement already satisfied: google-pasta>=0.1.1 in /home/simon/Documents/python/autocorrect-linux/venv/lib/python3.10/site-packages (from tensorflow) (0.2.0)\n",
      "Requirement already satisfied: ml-dtypes<1.0.0,>=0.5.1 in /home/simon/Documents/python/autocorrect-linux/venv/lib/python3.10/site-packages (from tensorflow) (0.5.1)\n",
      "Requirement already satisfied: setuptools in /home/simon/Documents/python/autocorrect-linux/venv/lib/python3.10/site-packages (from tensorflow) (65.5.0)\n",
      "Requirement already satisfied: tensorboard~=2.19.0 in /home/simon/Documents/python/autocorrect-linux/venv/lib/python3.10/site-packages (from tensorflow) (2.19.0)\n",
      "Requirement already satisfied: h5py>=3.11.0 in /home/simon/Documents/python/autocorrect-linux/venv/lib/python3.10/site-packages (from tensorflow) (3.14.0)\n",
      "Requirement already satisfied: typing-extensions>=3.6.6 in /home/simon/Documents/python/autocorrect-linux/venv/lib/python3.10/site-packages (from tensorflow) (4.14.0)\n",
      "Requirement already satisfied: opt-einsum>=2.3.2 in /home/simon/Documents/python/autocorrect-linux/venv/lib/python3.10/site-packages (from tensorflow) (3.4.0)\n",
      "Requirement already satisfied: flatbuffers>=24.3.25 in /home/simon/Documents/python/autocorrect-linux/venv/lib/python3.10/site-packages (from tensorflow) (25.2.10)\n",
      "Requirement already satisfied: protobuf!=4.21.0,!=4.21.1,!=4.21.2,!=4.21.3,!=4.21.4,!=4.21.5,<6.0.0dev,>=3.20.3 in /home/simon/Documents/python/autocorrect-linux/venv/lib/python3.10/site-packages (from tensorflow) (5.29.5)\n",
      "Requirement already satisfied: packaging in /home/simon/Documents/python/autocorrect-linux/venv/lib/python3.10/site-packages (from tensorflow) (25.0)\n",
      "Requirement already satisfied: absl-py>=1.0.0 in /home/simon/Documents/python/autocorrect-linux/venv/lib/python3.10/site-packages (from tensorflow) (2.3.0)\n",
      "Requirement already satisfied: tensorflow-io-gcs-filesystem>=0.23.1 in /home/simon/Documents/python/autocorrect-linux/venv/lib/python3.10/site-packages (from tensorflow) (0.37.1)\n",
      "Requirement already satisfied: rich in /home/simon/Documents/python/autocorrect-linux/venv/lib/python3.10/site-packages (from keras) (14.0.0)\n",
      "Requirement already satisfied: namex in /home/simon/Documents/python/autocorrect-linux/venv/lib/python3.10/site-packages (from keras) (0.1.0)\n",
      "Requirement already satisfied: optree in /home/simon/Documents/python/autocorrect-linux/venv/lib/python3.10/site-packages (from keras) (0.16.0)\n",
      "Requirement already satisfied: idna<4,>=2.5 in /home/simon/Documents/python/autocorrect-linux/venv/lib/python3.10/site-packages (from requests) (3.10)\n",
      "Requirement already satisfied: certifi>=2017.4.17 in /home/simon/Documents/python/autocorrect-linux/venv/lib/python3.10/site-packages (from requests) (2025.6.15)\n",
      "Requirement already satisfied: charset_normalizer<4,>=2 in /home/simon/Documents/python/autocorrect-linux/venv/lib/python3.10/site-packages (from requests) (3.4.2)\n",
      "Requirement already satisfied: urllib3<3,>=1.21.1 in /home/simon/Documents/python/autocorrect-linux/venv/lib/python3.10/site-packages (from requests) (2.5.0)\n",
      "Collecting beautifulsoup4\n",
      "  Using cached beautifulsoup4-4.13.4-py3-none-any.whl (187 kB)\n",
      "Requirement already satisfied: wheel<1.0,>=0.23.0 in /home/simon/Documents/python/autocorrect-linux/venv/lib/python3.10/site-packages (from astunparse>=1.6.0->tensorflow) (0.45.1)\n",
      "Requirement already satisfied: markdown>=2.6.8 in /home/simon/Documents/python/autocorrect-linux/venv/lib/python3.10/site-packages (from tensorboard~=2.19.0->tensorflow) (3.8.2)\n",
      "Requirement already satisfied: tensorboard-data-server<0.8.0,>=0.7.0 in /home/simon/Documents/python/autocorrect-linux/venv/lib/python3.10/site-packages (from tensorboard~=2.19.0->tensorflow) (0.7.2)\n",
      "Requirement already satisfied: werkzeug>=1.0.1 in /home/simon/Documents/python/autocorrect-linux/venv/lib/python3.10/site-packages (from tensorboard~=2.19.0->tensorflow) (3.1.3)\n",
      "Collecting soupsieve>1.2\n",
      "  Using cached soupsieve-2.7-py3-none-any.whl (36 kB)\n",
      "Requirement already satisfied: pygments<3.0.0,>=2.13.0 in /home/simon/Documents/python/autocorrect-linux/venv/lib/python3.10/site-packages (from rich->keras) (2.19.2)\n",
      "Requirement already satisfied: markdown-it-py>=2.2.0 in /home/simon/Documents/python/autocorrect-linux/venv/lib/python3.10/site-packages (from rich->keras) (3.0.0)\n",
      "Requirement already satisfied: mdurl~=0.1 in /home/simon/Documents/python/autocorrect-linux/venv/lib/python3.10/site-packages (from markdown-it-py>=2.2.0->rich->keras) (0.1.2)\n",
      "Requirement already satisfied: MarkupSafe>=2.1.1 in /home/simon/Documents/python/autocorrect-linux/venv/lib/python3.10/site-packages (from werkzeug>=1.0.1->tensorboard~=2.19.0->tensorflow) (3.0.2)\n",
      "Building wheels for collected packages: wikipedia\n",
      "  Building wheel for wikipedia (setup.py) ... \u001b[?25ldone\n",
      "\u001b[?25h  Created wheel for wikipedia: filename=wikipedia-1.4.0-py3-none-any.whl size=11678 sha256=e7e1ceccbbbfaf7cbc802397bf216638103fb826f5cd97d377d76681753197ec\n",
      "  Stored in directory: /home/simon/.cache/pip/wheels/5e/b6/c5/93f3dec388ae76edc830cb42901bb0232504dfc0df02fc50de\n",
      "Successfully built wikipedia\n",
      "Installing collected packages: soupsieve, beautifulsoup4, wikipedia\n",
      "Successfully installed beautifulsoup4-4.13.4 soupsieve-2.7 wikipedia-1.4.0\n",
      "\n",
      "\u001b[1m[\u001b[0m\u001b[34;49mnotice\u001b[0m\u001b[1;39;49m]\u001b[0m\u001b[39;49m A new release of pip is available: \u001b[0m\u001b[31;49m23.0.1\u001b[0m\u001b[39;49m -> \u001b[0m\u001b[32;49m25.0.1\u001b[0m\n",
      "\u001b[1m[\u001b[0m\u001b[34;49mnotice\u001b[0m\u001b[1;39;49m]\u001b[0m\u001b[39;49m To update, run: \u001b[0m\u001b[32;49mpip install --upgrade pip\u001b[0m\n"
     ]
    }
   ],
   "source": [
    "!pip install tensorflow keras numpy tqdm requests wikipedia"
   ]
  },
  {
   "cell_type": "code",
   "execution_count": 1,
   "id": "2b84d312",
   "metadata": {},
   "outputs": [
    {
     "name": "stderr",
     "output_type": "stream",
     "text": [
      "Downloading:   1%|          | 12/1000 [00:01<01:23, 11.83it/s]/home/simon/Documents/python/autocorrect-linux/venv/lib/python3.10/site-packages/wikipedia/wikipedia.py:389: GuessedAtParserWarning: No parser was explicitly specified, so I'm using the best available HTML parser for this system (\"html.parser\"). This usually isn't a problem, but if you run this code on another system, or in a different virtual environment, it may use a different parser and behave differently.\n",
      "\n",
      "The code that caused this warning is on line 389 of the file /home/simon/Documents/python/autocorrect-linux/venv/lib/python3.10/site-packages/wikipedia/wikipedia.py. To get rid of this warning, pass the additional argument 'features=\"html.parser\"' to the BeautifulSoup constructor.\n",
      "\n",
      "  lis = BeautifulSoup(html).find_all('li')\n",
      "Downloading: 100%|██████████| 1000/1000 [01:28<00:00, 11.27it/s]"
     ]
    },
    {
     "name": "stdout",
     "output_type": "stream",
     "text": [
      "Downloaded 831 Wikipedia pages (attempted 1000 times).\n"
     ]
    },
    {
     "name": "stderr",
     "output_type": "stream",
     "text": [
      "\n"
     ]
    }
   ],
   "source": [
    "import wikipedia\n",
    "import concurrent.futures\n",
    "from tqdm import tqdm\n",
    "\n",
    "NUM_PAGES = 1000\n",
    "MIN_LENGTH = 200\n",
    "MAX_TRIES = NUM_PAGES\n",
    "OUTPUT_FILE = \"dataset/wikipedia.txt\"\n",
    "THREADS = 16\n",
    "\n",
    "def clean_text(text):\n",
    "    lines = text.splitlines()\n",
    "    cleaned = [line for line in lines if not line.lstrip().startswith(\"==\") and line.strip()]\n",
    "    return \"\\n\".join(cleaned)\n",
    "\n",
    "def fetch_and_clean_article(_):\n",
    "    try:\n",
    "        title = wikipedia.random(1)\n",
    "        page = wikipedia.page(title)\n",
    "        text = page.content\n",
    "        if len(text) >= MIN_LENGTH:\n",
    "            cleaned = clean_text(text)\n",
    "            return cleaned\n",
    "    except Exception:\n",
    "        pass\n",
    "    return None\n",
    "\n",
    "def main():\n",
    "    count = 0\n",
    "    buffer = []\n",
    "    with concurrent.futures.ThreadPoolExecutor(max_workers=THREADS) as executor:\n",
    "        futures = [executor.submit(fetch_and_clean_article, i) for i in range(MAX_TRIES)]\n",
    "        for future in tqdm(concurrent.futures.as_completed(futures), total=MAX_TRIES, desc=\"Downloading\"):\n",
    "            result = future.result()\n",
    "            if result:\n",
    "                buffer.append(result)\n",
    "                count += 1\n",
    "                if count >= NUM_PAGES:\n",
    "                    break\n",
    "\n",
    "    with open(OUTPUT_FILE, \"a\", encoding=\"utf-8\") as f:\n",
    "        f.write(\"\\n\".join(buffer) + \"\\n\")\n",
    "\n",
    "    print(f\"Downloaded {count} Wikipedia pages (attempted {MAX_TRIES} times).\")\n",
    "\n",
    "if __name__ == \"__main__\":\n",
    "    main()"
   ]
  }
 ],
 "metadata": {
  "kernelspec": {
   "display_name": "venv",
   "language": "python",
   "name": "python3"
  },
  "language_info": {
   "codemirror_mode": {
    "name": "ipython",
    "version": 3
   },
   "file_extension": ".py",
   "mimetype": "text/x-python",
   "name": "python",
   "nbconvert_exporter": "python",
   "pygments_lexer": "ipython3",
   "version": "3.10.18"
  }
 },
 "nbformat": 4,
 "nbformat_minor": 5
}
